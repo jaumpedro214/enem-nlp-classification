{
  "nbformat": 4,
  "nbformat_minor": 0,
  "metadata": {
    "colab": {
      "name": "Enem obter questões.ipynb",
      "provenance": [],
      "collapsed_sections": []
    },
    "kernelspec": {
      "display_name": "Python 3",
      "name": "python3"
    },
    "language_info": {
      "name": "python"
    }
  },
  "cells": [
    {
      "cell_type": "markdown",
      "metadata": {
        "id": "N9V2DdepTTjq"
      },
      "source": [
        "## Enem Obter questões"
      ]
    },
    {
      "cell_type": "code",
      "metadata": {
        "colab": {
          "base_uri": "https://localhost:8080/"
        },
        "id": "PYtVnBCqFkom",
        "outputId": "e250fe82-dccf-4109-8ca4-f9d7eb187e68"
      },
      "source": [
        "!pip install pymupdf"
      ],
      "execution_count": 1,
      "outputs": [
        {
          "output_type": "stream",
          "name": "stdout",
          "text": [
            "Collecting pymupdf\n",
            "  Downloading PyMuPDF-1.19.2-cp37-cp37m-manylinux_2_12_x86_64.manylinux2010_x86_64.whl (8.7 MB)\n",
            "\u001b[K     |████████████████████████████████| 8.7 MB 4.5 MB/s \n",
            "\u001b[?25hInstalling collected packages: pymupdf\n",
            "Successfully installed pymupdf-1.19.2\n"
          ]
        }
      ]
    },
    {
      "cell_type": "code",
      "metadata": {
        "id": "7vg9RzNNjdh8"
      },
      "source": [
        "!wget https://download.inep.gov.br/educacao_basica/enem/provas/2010/dia1_caderno1_azul_com_gab.pdf -P ./provas\n",
        "!wget https://download.inep.gov.br/educacao_basica/enem/provas/2010/dia2_caderno7_azul_com_gab.pdf  -P ./provas\n",
        "!wget https://download.inep.gov.br/educacao_basica/enem/provas/2010/AZUL_quarta-feira_GAB.pdf -P ./provas\n",
        "!wget https://download.inep.gov.br/educacao_basica/enem/provas/2010/AZUL_quinta-feira_GAB.pdf -P ./provas\n",
        "\n",
        "!wget https://download.inep.gov.br/educacao_basica/enem/provas/2011/01_AZUL_GAB.pdf -P ./provas\n",
        "!wget https://download.inep.gov.br/educacao_basica/enem/provas/2011/07_AZUL_GAB.pdf -P ./provas\n",
        "!wget https://download.inep.gov.br/educacao_basica/enem/ppl/2011/PPL_ENEM_2011_03_BRANCO.pdf -P ./provas\n",
        "!wget https://download.inep.gov.br/educacao_basica/enem/ppl/2011/PPL_ENEM_2011_06_CINZA.pdf -P ./provas\n",
        "\n",
        "!wget https://download.inep.gov.br/educacao_basica/enem/provas/2012/caderno_enem2012_sab_azul.pdf -P ./provas\n",
        "!wget https://download.inep.gov.br/educacao_basica/enem/provas/2012/caderno_enem2012_dom_azul.pdf -P ./provas\n",
        "!wget https://download.inep.gov.br/educacao_basica/enem/ppl/2012/prova_caderno_branco_3_2012.pdf -P ./provas\n",
        "!wget https://download.inep.gov.br/educacao_basica/enem/ppl/2012/prova_caderno_cinza_6_2012.pdf -P ./provas\n",
        "\n",
        "!wget https://download.inep.gov.br/educacao_basica/enem/provas/2013/caderno_enem2013_sab_azul.pdf -P ./provas\n",
        "!wget https://download.inep.gov.br/educacao_basica/enem/provas/2013/caderno_enem2013_dom_azul.pdf -P ./provas\n",
        "!wget https://download.inep.gov.br/educacao_basica/enem/ppl/2013/prova_caderno_branco_3_2013.pdf -P ./provas\n",
        "!wget https://download.inep.gov.br/educacao_basica/enem/ppl/2013/prova_caderno_cinza_6_2013.pdf -P ./provas\n",
        "\n",
        "!wget https://download.inep.gov.br/educacao_basica/enem/provas/2014/CAD_ENEM_2014_DIA_1_01_AZUL.pdf -P ./provas\n",
        "!wget https://download.inep.gov.br/educacao_basica/enem/provas/2014/CAD_ENEM_2014_DIA_2_07_AZUL.pdf -P ./provas\n",
        "!wget https://download.inep.gov.br/educacao_basica/enem/ppl/2014/prova_caderno_branco_3_2014.pdf -P ./provas\n",
        "!wget https://download.inep.gov.br/educacao_basica/enem/ppl/2014/prova_caderno_cinza_6_2014.pdf -P ./provas\n",
        "\n",
        "!wget https://download.inep.gov.br/educacao_basica/enem/provas/2015/CAD_ENEM%202015_DIA%201_01_AZUL.pdf -P ./provas\n",
        "!wget https://download.inep.gov.br/educacao_basica/enem/provas/2015/CAD_ENEM%202015_DIA%202_07_AZUL.pdf -P ./provas\n",
        "!wget https://download.inep.gov.br/educacao_basica/enem/ppl/2015/PPL_ENEM_2011_09_BRANCO.pdf -P ./provas\n",
        "!wget https://download.inep.gov.br/educacao_basica/enem/ppl/2015/PPL_ENEM_2011_12_BRANCO.pdf -P ./provas\n",
        "\n",
        "!wget https://download.inep.gov.br/educacao_basica/enem/provas/2016/CAD_ENEM_2016_DIA_1_01_AZUL.pdf -P ./provas\n",
        "!wget https://download.inep.gov.br/educacao_basica/enem/provas/2016/CAD_ENEM_2016_DIA_2_07_AZUL.pdf -P ./provas\n",
        "!wget https://download.inep.gov.br/educacao_basica/enem/provas/2016/CAD_ENEM_2016_DIA_1_01_AZUL_2.pdf -P ./provas\n",
        "!wget https://download.inep.gov.br/educacao_basica/enem/provas/2016/CAD_ENEM_2016_DIA_2_07_AZUL_2.pdf -P ./provas\n",
        "\n",
        "!wget https://download.inep.gov.br/educacao_basica/enem/provas/2017/cad_1_prova_azul_5112017.pdf -P ./provas\n",
        "!wget https://download.inep.gov.br/educacao_basica/enem/provas/2017/cad_7_prova_azul_12112017.pdf -P ./provas\n",
        "!wget https://download.inep.gov.br/educacao_basica/enem/ppl/2017/provas/P2_01_AZUL.pdf -P ./provas\n",
        "!wget https://download.inep.gov.br/educacao_basica/enem/ppl/2017/provas/P2_07_AZUL.pdf -P ./provas\n",
        "\n",
        "!wget https://download.inep.gov.br/educacao_basica/enem/provas/2018/1DIA_01_AZUL_BAIXA.pdf -P ./provas\n",
        "!wget https://download.inep.gov.br/educacao_basica/enem/provas/2018/2DIA_07_AZUL_BAIXA.pdf -P ./provas\n",
        "!wget https://download.inep.gov.br/educacao_basica/enem/provas/2018/Caderno_13_1_dia_PPL_AZUL.pdf -P ./provas\n",
        "!wget https://download.inep.gov.br/educacao_basica/enem/provas/2018/Caderno_19_2_dia_PPL_AZUL.pdf -P ./provas\n",
        "\n",
        "!wget https://download.inep.gov.br/educacao_basica/enem/provas/2019/caderno_de_questoes_1_dia_caderno_1_azul_aplicacao_regular.pdf -P ./provas\n",
        "!wget https://download.inep.gov.br/educacao_basica/enem/provas/2019/caderno_de_questoes_2_dia_caderno_7_azul_aplicacao_regular.pdf -P ./provas\n",
        "!wget https://download.inep.gov.br/educacao_basica/enem/ppl/2019/provas/BAIXA_PPL_1_DIA_CADERNO_1_AZUL.pdf -P ./provas\n",
        "!wget https://download.inep.gov.br/educacao_basica/enem/ppl/2019/provas/BAIXA_PPL_2_DIA_CADERNO_7_AZUL.pdf -P ./provas\n",
        "\n",
        "!wget https://download.inep.gov.br/enem/provas_e_gabaritos/2020_PV_impresso_D1_CD1.pdf -P ./provas\n",
        "!wget https://download.inep.gov.br/enem/provas_e_gabaritos/2020_PV_impresso_D2_CD7.pdf -P ./provas\n",
        "!wget https://download.inep.gov.br/enem/provas_e_gabaritos/2020_PV_reaplicacao_PPL_D1_CD1.pdf -P ./provas\n",
        "!wget https://download.inep.gov.br/enem/provas_e_gabaritos/2020_PV_reaplicacao_PPL_D2_CD7.pdf -P ./provas\n"
      ],
      "execution_count": null,
      "outputs": []
    },
    {
      "cell_type": "code",
      "metadata": {
        "id": "qtDdRshAaEfH"
      },
      "source": [
        "import fitz\n",
        "import os \n",
        "\n",
        "import numpy as np\n",
        "import pandas as pd\n",
        "\n",
        "import re"
      ],
      "execution_count": 3,
      "outputs": []
    },
    {
      "cell_type": "code",
      "metadata": {
        "id": "1eCEh0R9JFu3"
      },
      "source": [
        "class PdfToText():\n",
        "  def __init__(self):\n",
        "    pass\n",
        "\n",
        "  def convert_from_file(self, filename):\n",
        "    try: \n",
        "      doc = self.load_pdf(filename)\n",
        "    except:\n",
        "      print( \"Unable to open file.\" )\n",
        "      return \"\"\n",
        "\n",
        "    text = \"\"\n",
        "    for page in doc:\n",
        "      text += page.get_text()+\"\\n\\n\\n\"\n",
        "    return text\n",
        "\n",
        "  def load_pdf(self, filename):\n",
        "    return fitz.open(filename)\n",
        "\n",
        "class EnemExam(PdfToText):\n",
        "  def __init__(self):\n",
        "    pass\n",
        "\n",
        "  def read_questions(self, filename):\n",
        "    self.text = self.convert_from_file(filename)\n",
        "\n",
        "    self.find_topics()\n",
        "    self.find_questions()\n",
        "\n",
        "  def find_topics(self):\n",
        "    self._topics = ['matemática e suas tecnologias',\n",
        "                    'linguagens, códigos',\n",
        "                    'ciências humanas',\n",
        "                    'ciências da natureza',\n",
        "                    ]\n",
        "    topic_poss = [ self.text.lower().rfind(topic) for topic in self._topics ]\n",
        "\n",
        "    self._topics_loc = [ (topic,topic_pos) for topic, topic_pos in zip(self._topics, topic_poss) if topic_pos>0 ]\n",
        "    self._topics_loc.sort( key=lambda t: t[1] )\n",
        "\n",
        "  def find_questions(self):\n",
        "    matchs = []\n",
        "    for match in re.finditer('\\n(questão) [0-9]+', self.text.lower()):\n",
        "      matchs.append( match.start() )\n",
        "    \n",
        "    self.questions = []\n",
        "    self.questions_topic = []\n",
        "    self.questions_start = []\n",
        "    for i in range( 1, len(matchs) ):\n",
        "      self.questions.append( self.text[ matchs[i-1]:matchs[i] ] )\n",
        "      self.questions_topic.append( self.define_question_topic(matchs[i-1]) )\n",
        "      self.questions_start.append( matchs[i-1] )\n",
        "\n",
        "  def define_question_topic(self, start):\n",
        "    question_topic = \"UNDEFINED\"\n",
        "\n",
        "    for topic, topic_start in self._topics_loc:\n",
        "      if start > topic_start:\n",
        "        question_topic = topic\n",
        "\n",
        "    return question_topic"
      ],
      "execution_count": 5,
      "outputs": []
    },
    {
      "cell_type": "code",
      "metadata": {
        "id": "ITQlNct0PCwE"
      },
      "source": [
        "nome_arquivo_provas = os.listdir('./provas')\n",
        "enem_exam = EnemExam()\n",
        "enem_dfs = []\n",
        "\n",
        "for nome_arquivo_prova in nome_arquivo_provas:\n",
        "  enem_exam.read_questions('./provas/'+nome_arquivo_prova)\n",
        "  enem_dfs.append( pd.DataFrame( data=dict( enunciado=enem_exam.questions, \n",
        "                                            area=enem_exam.questions_topic ) \n",
        "                                )\n",
        "                 )"
      ],
      "execution_count": 6,
      "outputs": []
    },
    {
      "cell_type": "code",
      "metadata": {
        "id": "_pN5L-amQh2U"
      },
      "source": [
        "questions_df = pd.concat( enem_dfs )\n",
        "questions_df.to_json( 'enem_questoes.json', orient='records' )"
      ],
      "execution_count": 7,
      "outputs": []
    }
  ]
}